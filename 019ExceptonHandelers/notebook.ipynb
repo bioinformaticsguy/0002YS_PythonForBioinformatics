{
 "cells": [
  {
   "attachments": {},
   "cell_type": "markdown",
   "metadata": {},
   "source": [
    "# Exception Handlers\n"
   ]
  },
  {
   "attachments": {},
   "cell_type": "markdown",
   "metadata": {},
   "source": [
    "How are you doing guys. Bioinformatics guy here with the last video of this series Python for Bioinformatics. In this video we will be talking about how we can handle exceptions in python code.\n",
    "\n",
    "In bioinformatics, where large amounts of complex data are analyzed which can take hours to run, it is especially important to handle exceptions appropriately to ensure the accuracy and reliability of results.\n",
    "\n",
    "For example, a common bioinformatics task is to parse large files containing genomic or proteomic data. If an error occurs during parsing, such as an unexpected character or malformed sequence, an exception handler can be used to catch the error and handle it in a way that does not compromise the integrity of the data.\n",
    "\n",
    "Another example is when using external libraries or APIs in bioinformatics analysis. These libraries may raise exceptions for various reasons, such as invalid input or server errors. Exception handlers can be used to catch these exceptions and handle them in a way that allows the program to gracefully recover from the error and continue executing.\n",
    "\n",
    "In summary, exception handlers are crucial for ensuring the robustness and reliability of bioinformatics programs by properly handling unexpected events and errors that may arise during program execution."
   ]
  },
  {
   "attachments": {},
   "cell_type": "markdown",
   "metadata": {},
   "source": [
    "The basic form of a statement that handles an exception is:\n",
    "\n",
    "```\n",
    "try:\n",
    "    try-statements \n",
    "except ErrorClass: (TypeError, ValueError, NameError)\n",
    "    except-statements\n",
    "```"
   ]
  },
  {
   "cell_type": "code",
   "execution_count": null,
   "metadata": {},
   "outputs": [],
   "source": [
    "## Some Examples of common python errors."
   ]
  },
  {
   "cell_type": "code",
   "execution_count": null,
   "metadata": {},
   "outputs": [],
   "source": [
    "print(\"x\"+2)  # Type Error\n",
    "print(x) # NameError\n",
    "open('asdf.pysx') # FileNotFoundError\n",
    "\n",
    "# More detailed version of python errors can be found on my website."
   ]
  },
  {
   "cell_type": "code",
   "execution_count": null,
   "metadata": {},
   "outputs": [],
   "source": [
    "### Lets take a look at the following code:\n",
    "from pyforbinf import extract_gi_id\n",
    "\n",
    "def get_gi_ids(filename):\n",
    "    try:\n",
    "        with open(filename) as file:\n",
    "            return [extract_gi_id(line) for line in file if line[0] == '>'] \n",
    "\n",
    "    except FileNotFoundError: \n",
    "        print('File', filename, 'not found or not readable.')\n",
    "        return []\n",
    "    \n"
   ]
  }
 ],
 "metadata": {
  "kernelspec": {
   "display_name": "Python 3.10.4 64-bit",
   "language": "python",
   "name": "python3"
  },
  "language_info": {
   "codemirror_mode": {
    "name": "ipython",
    "version": 3
   },
   "file_extension": ".py",
   "mimetype": "text/x-python",
   "name": "python",
   "nbconvert_exporter": "python",
   "pygments_lexer": "ipython3",
   "version": "3.10.6"
  },
  "orig_nbformat": 4,
  "vscode": {
   "interpreter": {
    "hash": "916dbcbb3f70747c44a77c7bcd40155683ae19c65e1c03b4aa3499c5328201f1"
   }
  }
 },
 "nbformat": 4,
 "nbformat_minor": 2
}
