{
 "cells": [
  {
   "attachments": {},
   "cell_type": "markdown",
   "metadata": {},
   "source": [
    "# 18. For Loops Part II of II\n",
    "\n",
    "This is a bit advanced topic for the for loop. Understanding all the possible ways to use the for loop is very helpful for python programming skills.\n",
    "\n",
    "\n",
    "We will take a look at a bunch of different scanarios with for loops in this video like:\n",
    "\n",
    "- Combine\n",
    "- Count\n",
    "- Collection Combine\n",
    "- Search\n",
    "- Filter Do\n",
    "- Filtered Combine\n",
    "- Filtered Count\n",
    "- Nested Iteration"
   ]
  },
  {
   "attachments": {},
   "cell_type": "markdown",
   "metadata": {},
   "source": [
    "### Before we start we have to define a function\n",
    "We will be using our previous knowledge to define a function in two different ways. First we will define it using the basic for loops and then we will define it using the list comprehentions."
   ]
  },
  {
   "cell_type": "code",
   "execution_count": 60,
   "metadata": {},
   "outputs": [],
   "source": [
    "## List comprehentions\n",
    "def read_FASTA(filename):\n",
    "    with open(filename) as file:\n",
    "        return [(part[0].split('|'),\n",
    "                 part[2].replace('\\n', ''))\n",
    "                    for part in \n",
    "                         [entry.partition('\\n') for entry in file.read().split('>')[1:]]]"
   ]
  },
  {
   "cell_type": "code",
   "execution_count": 62,
   "metadata": {},
   "outputs": [
    {
     "name": "stdout",
     "output_type": "stream",
     "text": [
      "[(['gi', '32984511', 'dbj', 'AK099302.1', ' Oryza sativa Japonica Group cDNA clone:J023143D06, full insert sequence'], 'GAGCGTCGCCTAACCCTAGCTAAACCCCCCTTCTCCCTTGCGCCTCCGCTTCGCGAGCCTCATCTCCTCGATCTCTTTCGATTCAGTGGAAAACCTAGGAGACCGGCGCGGCATGGCGGAGTCGGGCTCGTCGGGCCTGGAGGAGAAGCTGGCGGGTCTCTCCGCGGGCTGCGGCGAGGAGCCGCAGCAGCTCTCGAAGAATGCCAAGAAGAGGGAGGAGAAAAGGAAGAAGCAGGAGGAGGAGCGCCGGTTGAAGGAGGAAGAGAAGAAGAAGAAGGCCGCTGCAACAGCAGCTGCTAGTGGAGAGCCCCCGAAGGAATCTGCCGCCGACGATGAGGAAATGGATCCCACTCAATATTATGAGAATCGCCTCAAGGCACTTGATTCACTCAAGGCCACGGGTGTAAACCCCTATCCCCATAAGTTCCTGGCTAATATTACCGTAGCCGATTATATTGAGAAATACAAGAGCATGAATGTTGGGGATAAGCTTGTTGACGTCACCGAGTGCCTAGCAGGGAGGATCATGACCAAGAGAGCGCAATCTTCCAAGCTCTTATTTTATGATCTTTATGGTGGTGGTGAGAAAGTTCAAGTTTTTGCTGATGCCAGGACCTCAGAGTTGGAAGATAATGAATTCATTAAGTTTCACTCTACTCTGAAACGAGGTGATATTGTTGGTGTATGTGGTTATCCAGGAAAGAGCAAGAGAGGGGAGCTCAGTATATTCCCAAAGAAAATTGTTGTGCTCTCCCCATGCCTTCATATGATGCCTCGACAGAAGAGTGAGGGAAGTGCTGTTCCCACTCCATGGGCTCCAGGAATGGGTAGGAACATCGAAAAGTATGTTTTGAGGGACCAGGAAACCCGATATCGTCAACGATATCTTGATCTCATGGTAAACCATGAAGTGAGGCATATTTTCAAGACAAGATCAAAAGTTGTCTCTTTTATTCGGAAATTTCTTGATGGTCTTGACTTTTTAGAGGTGGAGACTCCAATGATGAACATGATTGCAGGTGGAGCAGCTGCAAGGCCTTTTGTCACACATCATAATGAGTTAAACATGAGGCTTTATATGCGTATTGCTCCTGAGCTCTATCTGAAGGAATTGGTTGTTGGGGGGCTGGATCGTGTTTATGAAATTGGGAAGCAGTTCAGGAATGAAGGAATTGACCTGACGCACAATCCTGAATTCACAACATGTGAATTTTATATGGCATATGCAGATTACAATGACTTGATAGAGCTTACTGAAACCATGTTATCTGGTATGGTTAAGGAGTTGACAGGTGGCTACAAGATTAAATATCATGCTAACGGAGTTGAGAAACCACCAATAGAGATTGATTCCACACCTCCCTTCAGAAAGATAGACGTGATTGAAGAATTAGAGGCTATGGCTAAACTCAATATACCTAAAGATCTCTAAGTGATGAAGCAAACAAGTATTTGATAGATGCCTGTGCCAAATATGATGTCAAATGCCCACCTCCCCAGACTACAACACGGTTGCTTGATAAGCTAGTTGGCCATTTCTTGGAGGAGACATGTGTGAATCCCACGTTTATTATCAACCATCCAGAGATAATGAGTCCATTGGCAAAGTGGCATAGGTCTCGACCTGGATTGACTGAGAGGTTTGAGCTCTTTGTTAACAAGCATGAGGTGTGCAATGCATATACAGAGTTAAATGATCCTGTTGTTCAGAGGCAACGGTTTGAGGAACAACTAAAGGATCGTCAATCTGGTGATGATGAAGCTATGGCATTGGATGAAACATTCTGCACAGCCCTTGAGTATGGCCTACCACCGACTGGTGGTTGGGGATTGGGAATTGATCGCCTTACAATGTTGCTGACTGATTCTCAGAATATCAAGGAAGTTCTTCTATTCCCGGCTATGAAGCCTCAAGATTAGATATGTCCACAAAGCAGGAACCTGTCAGAAGGATTAAAGCAGACTGAATGCTGACTGAGAGGATTTCAATTGGCCCTCGAGATGGAGGATTTGAAGGAAACTTATAATTTTGTTTTAATTGTGCATGTGAGGTTTCCATGTCCTATTGTACTTTATTTTTGGAGAACATTGGTGGTCAGTTAAGCAAACAGTTAATCTCGCTGCAAAGATATCAAGCGTAACTTATAAGATGACTTAAGTTTGT'), (['gi', '2123833810', 'ref', 'XM_044527486.1', ' PREDICTED: Triticum aestivum lysine--tRNA ligase-like (LOC123105426), mRNA'], 'CCGCGCCTCCGCTTTGCTCTGCACTCCGCAATCCCATCCGTGTCTCCCCCTCCCCCTCGGCGAAACCCTAGCACCCGGCGCGGCATGGCGGACGGCGAGGGCGGCGCCGACGGCCTGGCGGAGAGGCTCGCGGGGGCGGAGATCGCCGCGGACGGTGGCGGCGGCGAGGAGCCGAGGGTCTCGAAGAACGCCCAGAAGAAAGAGGAGAAGAGGAGGAAGCAGGAGGAGCAGCGCCGGCTCAAGGAGGAAGAGAAGAAGAACAAGGCGGCTGCTGCGGCGGCGGCCGGTGGAGCGCCCCAGCAGGCGGCTGCGGCGGCCGATGATGAGGACATGGATCCTACTCAATATTACGAGAACAGGCTCAGGACCCTTGATGCACTCAAGGCCGGGGGTGCCAACCCCTATCCGCATAAGTTCCTAGCTAGCATCTCTGTGCCTGGATATATTGAGAAATACAAGGGCCTTAATGAGGGGGAGAAGCTTGCTGATGTTACAGAGTGTCTAGCAGGGAGGATCATGAACAAGAGAACATCATCTTCTAAGCTCTTATTTTATGATCTTTATGGTGATGGCGTGAAGGTTCAAGTAATGGCTGATGCCAGGACCTCGGAGTTGGAAGATACTGAATTCTCTAGTTTCCATTCTGGTGTGAAGCGAGGGGATATTGTTGGTATATGTGGAATTCCAGGAAAAAGCAATAGAGGGGAGCTCAGTGTATTCCCACGGAAATTTGTTGTGCTCTCTCCTTGTCTTCATATGATGCCCCGGCAGAAGAGTGAAGGAAGTGCGGTGCCTACACAATGGGCCCCAGGAATGTGTAGGAATATCGAAAAGTATGTTTTGAGGGACCAGGAAACTCGTTATCGTCAACGATACCTTGATCTTATGGTAAACCATGAAGTGAGACATATCTTCAAGACCCGATCCAAGATTGTCTCGTTTATTCGAAGGTTTCTTGATGGACTTGATTTTTTGGAGGTGGAGACTCCAATGATGAACATGATTGCCGGTGGAGCCGCTGCAAGGCCTTTTGTCACACACCATAATGATCTAAACATGAAGCTTTATATGCGTATTGCACCTGAGCTTTATCTGAAGGAATTGGTTGTTGGTGGATTGGACCGTGTCTATGAAATTGGGAAGCAGTTCAGGAATGAAGGGATTGATTTAACACATAATCCTGAATTCACAACAGTCGAGTTTTATATGGCGTATGCAGATTACAATGACTTGATGGAGCTTACTGAAGCCATGATATCTGGTATGGTTAAGGAGCTGACAGGTGGGTATAAGATAAAATATCATGCCAATGGAGTTGATAATCCACCGATAGAGATTGATTTCACGCCTCCCTTTAGAAGGATAGACATGATTGAAGGACTGGAGGCTATGGCCAAACTGGAGATACCAAAAGATATATCCAGTGATGAAACAAACAAGTATCTGATAGATGCATGTGCCAAGTATGATGTTAAATGTCCACCTCCCCAGACAACAACACGGCTGCTTGACAAGCTAGTGGGCCATTTCTTGGAGGAAACATGTGTGAACCCAACATTTATTATCAACCACCCAGAGATAATGAGTCCATTGGCAAAGTGGCATAGGTCCCGACCTGGGTTGACAGAAAGGTTTGAGCTCTTTGTTAACAAACACGAGGTGTGCAATGCCTACACTGAGTTGAACGATCCTGTTGTGCAAAGGCAACGGTTTGAGGAACAATTAAAGGATCGTCAATCTGGTGATGATGAAGCTATGGCTTTGGACGAAACATTCTGCACTGCCCTCGAGTATGGACTGCCTCCGACTGGTGGTTGGGGTTTGGGAATTGATCGCCTTACAATGATGCTGACAGATTCCCAGAACATCAAGGAAGTTCTCCTGTTCCCGGCCATGAAGCCCCAAGAGTAGCTGTTTGCAAACCCATCAACAGAAGTAATTTTGTTTGCTGTGCTGAGGTTGGAGGATTATGACATGACAATACAAGGAGGTTTAGGTATAAGCTACTTTTGCGTGGAAGGGTTGTTGAAAATTTGAACTCCGGTTAGGAGGAGCAGTGAGGCATATGAAGCAAGAGTCAGGAGGAGCCAAAGCGTGCTACATGTTTGCTTGTTTTCTTTTTGATGAAAAATCAAAATTTAGTGCTTGGTATTGTTATACACTTTGTTGGATCTCCGTGTAACACTTGCCTTGCGTCTTATTTGTATGGACCGCTAGAGCTAGAGGTGCCCTTTCCTCTTATGCTTGTAGCCAGGGTATTTGTTTTGAAAGATGGGTAGGATGAAAGGTCCCGGAAGTTGGCATTCGAA'), (['gi', '241985816', 'dbj', 'AK333077.1', ' Triticum aestivum cDNA, clone: WT005_J11, cultivar: Chinese Spring'], 'GGCACTCCGCAATCCCATCCGTGTCTCCCCCTCCCCCTCGGCGAAACCCTAGCACCCGGCGCGGCATGGCGGACGGCGAGGGCGGCGCCGACGGCCTGGCGGAGAGGCTCGCGGGGGCGGAGATCGCCGCGGACGGTGGCGGCGGCGAGGAGCCGAGGGTCTCGAAGAACGCCCAGAAGAAAGAGGAGAAGAGGAGGAAGCAGGAGGAGCAGCGCCGGCTCAAGGAGGAAGAGAAGAAGAACAAGGCGGCTGCTGCGGCGGCGGCCGGTGGAGCGCCCCAGCAGGCGGCTGCGGCGGCCGATGATGAGGACATGGATCCTACTCAATATTACGAGAACAGGCTCAGGACCCTTGATGCACTCAAGGCCGGGGGTGCCAACCCCTATCCGCATAAGTTCCTAGCTAGCATCTCTGTGCCTGGATATATTGAGAAATACAAGGGCCTTAATGAGGGGGAGAAGCTTGCTGATGTTACAGAGTGTCTAGCAGGGAGGATCATGAACAAGAGAACATCATCTTCTAAGCTCTTATTTTATGATCTTTATGGTGATGGCGTGAAGGTTCAAGTAATGGCTGATGCCAGGACCTCGGAGTTGGAAGATACTGAATTCTCTAGTTTCCATTCTGGTGTGAAGCGAGGGGATATTGTTGGTATATGTGGAATTCCAGGAAAAAGCAATAGAGGGGAGCTCAGTGTATTCCCACGGAAATTTGTTGTGCTCTCTCCTTGTCTTCATATGATGCCCCGGCAGAAGAGTGAAGGAAGTGCGGTGCCTACACAATGGGCCCCAGGAATGTGTAGGAATATCGAAAAGTATGTTTTGAGGGACCAGGAAACTCGTTATCGTCAACGATACCTTGATCTTATGGTAAACCATGAAGTGAGACATATCTTCAAGACCCGATCCAAGATTGTCTCGTTTATTCGAAGGTTTCTTGATGGACTTGATTTTTTGGAGGTGGAGACTCCAATGATGAACATGATTGCCGGTGGAGCCGCTGCAAGGCCTTTTGTCACACACCATAATGATCTAAACATGAAGCTTTATATGCGTATTGCACCTGAGCTTTATCTGAAGGAATTGGTTGTTGGTGGATTGGACCGTGTCTATGAAATTGGGAAGCAGTTCAGGAATGAAGGGATTGATTTAACACATAATCCTGAATTCACAACAGTCGAGTTTTATATGGCGTATGCAGATTACAATGACTTGATGGAGCTTACTGAAGCCATGATATCTGGTATGGTTAAGGAGCTGACAGGTGGGTATAAGATAAAATATCATGCCAATGGAGTTGATAATCCACCGATAGAGATTGATTTCACGCCTCCCTTTAGAAGGATAGACATGATTGAAGGACTGGAGGCTATGGCCAAACTGGAGATACCAAAAGATATATCCAGTGATGAAACAAACAAGTATCTGATAGATGCATGTGCCAAGTATGATGTTAAATGTCCACCTCCCCAGACAACAACACGGCTGCTTGACAAGCTAGTGGGCCATTTCTTGGAGGAAACATGTGTGAACCCAACATTTATTATCAACCACCCAGAGATAATGAGTCATTGGCAAAGTGGCATAGGTCCCGACCTGGGTTGACAGAAAGGTTTGAGCTCTTTGTTAACAAACACGAGGTGTGCAATGCCTACACTGAGTTGAACGATCCTGTTGTGCAAAGGCAACGGTTTGAGGAACAATTAAAGGATCGTCAATCTGGTGATGATGAAGCTATGGCTTTGGACGAAACATTCTGCACTGCCCTCGAGTATGGACTGCCTCCGACTGGTGGTTGGGGTTTGGGAATTGATCGCCTTACAATGATGCTGACAGATTCCCAGAACATCAAGGAAGTTCTCCTGTTCCCGGCCATGAAGCCCCAAGAGTAGCTGTTTGCAAACCCATCAACAGAAGTAATTTTGTTTGCTGTGCTGAGGTTGGAGGATTATGACATGACAATACAAGGAGGTTTAGGTATAAGCTACTTTTGCGTGGAAGGGTTGTTGAAAATTTGAACTCCGGTTAGGAGGAGCAGTGAGGCATATGAAGCAAGAGTCAGGAGGAGCCAAAGCGTGCTACATGTTTGCTTGTTTTCTTTTTGATGAAAAATCAAAATTTAGTGCTTGGTATTGTTATACACTTTGTTGGATCTCCGTGTAACACTTGCCTTGCGTCTGATTTGTATGGACCGCTAGAGCTAGAGGTGCCCTTTCCTCTTATGCTTGTAGCCAGGGTATTTGTTTTGAAAGATGGGTAGGATGAAAGGTCCCGGAAAAAAAAAAAAAAAACGA'), (['gi', '2158035215', 'ref', 'XM_020319379.3', ' PREDICTED: Aegilops tauschii subsp. strangulata lysine--tRNA ligase (LOC109760570), mRNA'], 'CCGCTCTGCTTTGCTCTCCGAAATCCCATCCGTCTCTCCTGCCCCCTCGGCGAAACCCTAGAATCCATCCGGCGCGGCATGGCGGACGGCGAGGGCGGCGCGGACGGCCTGGCGGAGAGGCTCGCGGGGGCGGAGATCGCCGCGGACGGCGGCGGCGGCGCCGGCGGTGGCGAGGAGGAGCCGAAGCTCTCGAAGAACGCCCAGAAGAAAGAGGAGAAGAGGAGGAAGCAGGAGGAGCAGCGCCGGCTCAAGGAGGAGGAGAAGAAGAGCAAGGCAGCGGTGGCTGCGGTGGCGGCCGGTGGAGCGCCCCAGCAGGCGGCGGCCGACGATGAGGACATGGATCCTACTCAATATTATGAGAATAGGCTCAAGACCCTTGACGTTCTCAAGGCCGGGGGTGCTAATCCCTATCCGCATAAGTTTCTAGCTAGCATCTCTGTGCCTGGGTATATTGAGAAATACAAGGGCCTTAATGAGGGGGAGAAGCTTGCTGATGTTACAGAGTGTCTAGCAGGGAGGATCATGAACAAGAGAACATCATCTTCTAAGCTCTTATTTTATGATCTTTATGGTGATGGCGTGAAGGTTCAAGTAATGGCTGATGCCAGGACCTCGGAGTTGGAAGATACTGAATTCTCTAGTTTCCATTCTGGTGTGAAGCGAGGTGATATTGTTGGTATATGTGGAATTCCAGGAAAAAGCAATAGAGGGGAGCTCAGTGTATTCCCACGGAAATTTGTTGTGCTCTCCCCTTGTCTTCATATGATGCCCCGGCAGAAGAGTGAAGGAAGTGCGGTGCCTACGCAATGGGCCCCAGGAATGTGTAGGAATATCGAGAAGTATGTATTGAGGGACCAGGAAACTCGTTATCGTCAACGATACCTTGATCTTATGGTAAACCATGAAGTGAGACATATCTTCAAGACCCGATCCAAAATTGTCTCGTTTATTCGAAGGTTTCTTGATGGGCTTGATTTTTTGGAGGTGGAGACTCCAATGATGAACATGATTGCCGGTGGAGCCGCTGCAAGGCCTTTTGTCACACACCATAATGATCTAAACATGAAGCTTTATATGCGTATTGCACCTGAGCTTTATCTTAAGGAGTTGGTTGTTGGTGGATTGGACCGTGTCTATGAAATTGGGAAGCAGTTCAGGAATGAAGGGATTGATTTAACACACAATCCTGAATTCACAACAGTTGAGTTTTATATGGCGTACGCAGATTACAATGACTTGATGGAGCTTACTGAAGCCATGATATCTGGTATGGTTAAGGAGCTGACTGGTGGGTATAAGATAAAATATCATGCCAATGGAGTTGATAATCCACCGATAGAGATTGATTTCACGCCTCCCTTTAGAAGGATAGACATGATTGAAGGATTGGAGGCTATGGCCAAACTGGAGATACCAAAAGATATATCGAGTGATGAAACAAACAAGTATCTGATAGATGCATGTGCCAAGTATGATGTTAAATGTCCACCTCCCCAGACAACAACACGGCTGCTTGACAAGCTAGTGGGCCATTTCTTGGAGGAAACATGTGTGAACCCAACATTTATTATCAACCACCCAGAGATAATGAGTCCATTGGCAAAGTGGCATAGGTCCCGACCTGGGTTGACAGAAAGGTTTGAGCTCTTTGTTAACAAACACGAGGTGTGCAATGCCTACACTGAGTTGAACGATCCTGTTGTGCAAAGGCAACGGTTTGAGGAACAACTAAAGGATCGTCAATCTGGTGATGATGAAGCTATGGCTTTGGACGAAACATTCTGCACTGCCCTCGAGTATGGACTGCCTCCGACAGGTGGTTGGGGTTTGGGAATTGATCGCCTTACAATGATGCTGACAGATTCCCAGAACATCAAGGAAGTTCTCCTGTTCCCGGCCATGAAGCCCCAAGAGTAGCTGTTTGCAAACCCATCAACAGAAGTAATTTTGTTTGCTGCGCTGAGGCTGGAGGATTATGACATGACAATACAAGGAGTTTTAACTGTGCTGGACAAAACATGTGTAGCAGCACTGGAGGTATAAGCTACTTTTGCGTGGAAGGGTTGTTGAAAATTTGAACTCCTGTTAGGGAGGAGCAGTGAGGCATATGAAGCAAGAATTAGAAGGAGCCAAAGTGTGCTACATGTTTGCTTGTTTTCTTTTTGAAAATTTAAAATTTAGTGCTTGGTATTGCTATACACTTTCTTGGATCTCCGTGTAACACTTGCCTTGCGTCTTATTTGTATGGACCACTAGAGGTAGAGGTGCCTCTTCCTCTTATGCTTGTAGCCAGGGTATTTGTTTTGAAAGATGGGTAGGATGAAAGGTCCCA'), (['gi', '1205927544', 'ref', 'XM_002464232.2', ' PREDICTED: Sorghum bicolor lysine--tRNA ligase (LOC8063004), mRNA'], 'GCCCTAAAACCCTACCACCACCTGCGCCTCCACATTCCAACCGCAACCGCGTCTCATCTCGTTCGCCGTTCTCCTCCCGCCCGGCCGCAGCACAAGTCACAGCGAAACCCTAGAGGTCCGCGCGCGACATGGCGGACGGCGCGGGATCGGCGTCTGGTCTGGAGGAGAAGCTCGCGGGGCTCTCAACGGGCGGCGACGCGCAGAATCCTCCGCCGGCGGGTGAGGGCGGAGAGGAGCCGCAGCTCTCGAAGAACGCGAAGAAGAGAGAGGAGAAGAGGAAGAAGCTGGAAGAGGAGCGGAGGCTCAAGGAGGAAGAGAAGAAGAACAAGGCTGCGGCAGCTGCTGCCAGTGGAAAGCCTCAGAAGGCATCTGCTGCTGACGATGATGACATGGATCCCACTCAATACTATGAGAATAGGCTCAAGACTCTTGATTCGCTCAAGGCCACAGGTGTAAACCCCTATCCCCATAAGTTCCCAGTTGGCATCTCTGTAGCCGAATACATTGAGAAGTTCAACACCTTGAGCAATGGGGAGAAGCTTACAGATGTGACAGAGTGTTTAGCTGGGAGGATCATGAACAAGAGAACATCATCATCTAAGCTATTCTTTTATGATCTTTATGGTGGGGGCATGAAGGTTCAAGTGATGGCTGATGCCAGGACCTCAGAGTTGGACGAAGCTGAATTTTCTAAGTATCACTCAGGTGTGAAGCGAGGTGATATTGTTGGCATAGCTGGCTATCCAGGAAAAAGCAACAGAGGGGAGCTTAGTGTATTCCCAAAGAAATTTGTCGTGCTCTCTCCATGTCTTCATATGATGCCTCGGCAGAAAGGTGAAGGAAGTGCGGTGCCTGTACCGTGGACTCCAGGAATGGGTAGGAACATCGAAAATTATGTTTTGAGGGATCAGGAAACTCGGTATCGTCAAAGGTATCTTGATCTTATGGTAAACCATGAAGTGAGGCATATCTTCAAGACACGATCTAAAGTTGTCTCATTTATCCGGAAGTTCCTTGATGAACGTGAATTTTTGGAGGTGGAGACTCCGATGATGAACATGATTGCTGGTGGAGCAGCTGCGAGGCCTTTTGTTACACACCACAATGAATTAAACATGAGGCTTTTTATGCGTATTGCTCCTGAATTATATCTGAAGGAATTGGTTGTCGGTGGATTGGACCGTGTCTATGAAATTGGAAAACAATTCAGGAATGAAGGAATTGATTTAACACACAATCCTGAATTCACAACTTGTGAATTTTATATGGCTTATGCCGATTACAATGATTTGATGGAGCTTACTGAAACCATGTTGTCAGGCATGGTTAAGGAGCTGACAGGTGGCTATAAGATAAAATATCATGCAAATGGAGTTATGAACCCCCCAATAGAAATTGATTTCACGCCTCCCTTCAGAAGGATAGATATGATTAAAGATTTGGAGGTTGTGGCCAATCTCAATATACCAAAAGATCTATCTAGTGATGAAGCAAATCGTTACTTGATAGAAGCATGTGCGAAGTATGATGTGAAATGTCCACCTCCCCAAACGACATCACGGTTGCTTGACAAGTTAGTTGGCCATTTCTTGGAGGAGATGTGTGTGAATCCAACATTTATCATCAATCATCCAGAGATAATGAGTCCATTGGCAAAGTGGCATAGGTCCCGACCTGGATTGACTGAGAGGTTCGAGCTATTTGTTAACAAGCATGAGGTGTGCAATGCATACACAGAGTTAAACGATCCTGTTGTGCAGAGGCAACGGTTTGAGGAACAACTAAAGGATCGTCAATCTGGTGATGATGAAGCTATGGCCTTGGATGAAACATTCTGTACTGCCCTTGAGTATGGTCTACCACCAACAGGCGGTTGGGGCTTGGGAATTGATCGCCTAACGATGTTGCTAACAGATTCTCAGAACATTAAGGAAGTTCTTCTATTCCCGGCTATGAAGCCTCAAGAGTAGCTATCCACAGAGCCAAAGGTTCAAAGCAAACATGATGCTACATAGCCTGGAGGATAGCGAAGTCCTTGCATCTGTTGTGACTTATACATCTTTTTGCCCGTGTGTGTGCAAGGTTTCCATTTTTCATTATTTTTCTAAACCATTGTGTATTGGCCGGTCGCCAGTTATTAACCAGAAAATGTAAGAAAGTTCAGTTTAACTTCAAACATGAAATTTTGCAAATACTCTGGTTCTGTGCAATGTGTGCGCTCAAATTAGATTGGTGAGACAAGCA')]\n"
     ]
    }
   ],
   "source": [
    "print(read_FASTA('sequence.fasta')[1:10])"
   ]
  },
  {
   "attachments": {},
   "cell_type": "markdown",
   "metadata": {},
   "source": [
    "# Combine\n",
    "Well in our last video we ended up talking about the collection. Here we are going to start with the combine. There is very minor difference between collect and combine. Rather than making a collection this time you will keep on adding or combinig to the value and at the end you will just return that value.\n",
    "\n",
    "```\n",
    "result = identity-value  \n",
    "for item in collection:\n",
    "    result = result . item      # One of these will be used\n",
    "    result = .= item            # The top one does the same \n",
    "    result = fn(result, item)\n",
    "return result                      \n",
    "```\n",
    "\n",
    "- The identity value is the value i for which i · v == v or fn(i,v) == v. Typical examples will be 0 for addition and 1 for multiplication\n",
    "- · representing a binary operation\n",
    "\n",
    "Let's try to use this in a bioinformatickey function to get the longest sequence form a fasta file with multiple sequences."
   ]
  },
  {
   "cell_type": "code",
   "execution_count": 65,
   "metadata": {},
   "outputs": [
    {
     "name": "stdout",
     "output_type": "stream",
     "text": [
      "CCGCTCTGCTTTGCTCTCCGAAATCCCATCCGTCTCTCCTGCCCCCTCGGCGAAACCCTAGAATCCATCCGGCGCGGCATGGCGGACGGCGAGGGCGGCGCGGACGGCCTGGCGGAGAGGCTCGCGGGGGCGGAGATCGCCGCGGACGGCGGCGGCGGCGCCGGCGGTGGCGAGGAGGAGCCGAAGCTCTCGAAGAACGCCCAGAAGAAAGAGGAGAAGAGGAGGAAGCAGGAGGAGCAGCGCCGGCTCAAGGAGGAGGAGAAGAAGAGCAAGGCAGCGGTGGCTGCGGTGGCGGCCGGTGGAGCGCCCCAGCAGGCGGCGGCCGACGATGAGGACATGGATCCTACTCAATATTATGAGAATAGGCTCAAGACCCTTGACGTTCTCAAGGCCGGGGGTGCTAATCCCTATCCGCATAAGTTTCTAGCTAGCATCTCTGTGCCTGGGTATATTGAGAAATACAAGGGCCTTAATGAGGGGGAGAAGCTTGCTGATGTTACAGAGTGTCTAGCAGGGAGGATCATGAACAAGAGAACATCATCTTCTAAGCTCTTATTTTATGATCTTTATGGTGATGGCGTGAAGGTTCAAGTAATGGCTGATGCCAGGACCTCGGAGTTGGAAGATACTGAATTCTCTAGTTTCCATTCTGGTGTGAAGCGAGGTGATATTGTTGGTATATGTGGAATTCCAGGAAAAAGCAATAGAGGGGAGCTCAGTGTATTCCCACGGAAATTTGTTGTGCTCTCCCCTTGTCTTCATATGATGCCCCGGCAGAAGAGTGAAGGAAGTGCGGTGCCTACGCAATGGGCCCCAGGAATGTGTAGGAATATCGAGAAGTATGTATTGAGGGACCAGGAAACTCGTTATCGTCAACGATACCTTGATCTTATGGTAAACCATGAAGTGAGACATATCTTCAAGACCCGATCCAAAATTGTCTCGTTTATTCGAAGGTTTCTTGATGGGCTTGATTTTTTGGAGGTGGAGACTCCAATGATGAACATGATTGCCGGTGGAGCCGCTGCAAGGCCTTTTGTCACACACCATAATGATCTAAACATGAAGCTTTATATGCGTATTGCACCTGAGCTTTATCTTAAGGAGTTGGTTGTTGGTGGATTGGACCGTGTCTATGAAATTGGGAAGCAGTTCAGGAATGAAGGGATTGATTTAACACACAATCCTGAATTCACAACAGTTGAGTTTTATATGGCGTACGCAGATTACAATGACTTGATGGAGCTTACTGAAGCCATGATATCTGGTATGGTTAAGGAGCTGACTGGTGGGTATAAGATAAAATATCATGCCAATGGAGTTGATAATCCACCGATAGAGATTGATTTCACGCCTCCCTTTAGAAGGATAGACATGATTGAAGGATTGGAGGCTATGGCCAAACTGGAGATACCAAAAGATATATCGAGTGATGAAACAAACAAGTATCTGATAGATGCATGTGCCAAGTATGATGTTAAATGTCCACCTCCCCAGACAACAACACGGCTGCTTGACAAGCTAGTGGGCCATTTCTTGGAGGAAACATGTGTGAACCCAACATTTATTATCAACCACCCAGAGATAATGAGTCCATTGGCAAAGTGGCATAGGTCCCGACCTGGGTTGACAGAAAGGTTTGAGCTCTTTGTTAACAAACACGAGGTGTGCAATGCCTACACTGAGTTGAACGATCCTGTTGTGCAAAGGCAACGGTTTGAGGAACAACTAAAGGATCGTCAATCTGGTGATGATGAAGCTATGGCTTTGGACGAAACATTCTGCACTGCCCTCGAGTATGGACTGCCTCCGACAGGTGGTTGGGGTTTGGGAATTGATCGCCTTACAATGATGCTGACAGATTCCCAGAACATCAAGGAAGTTCTCCTGTTCCCGGCCATGAAGCCCCAAGAGTAGCTGTTTGCAAACCCATCAACAGAAGTAATTTTGTTTGCTGCGCTGAGGCTGGAGGATTATGACATGACAATACAAGGAGTTTTAACTGTGCTGGACAAAACATGTGTAGCAGCACTGGAGGTATAAGCTACTTTTGCGTGGAAGGGTTGTTGAAAATTTGAACTCCTGTTAGGGAGGAGCAGTGAGGCATATGAAGCAAGAATTAGAAGGAGCCAAAGTGTGCTACATGTTTGCTTGTTTTCTTTTTGAAAATTTAAAATTTAGTGCTTGGTATTGCTATACACTTTCTTGGATCTCCGTGTAACACTTGCCTTGCGTCTTATTTGTATGGACCACTAGAGGTAGAGGTGCCTCTTCCTCTTATGCTTGTAGCCAGGGTATTTGTTTTGAAAGATGGGTAGGATGAAAGGTCCCA\n"
     ]
    }
   ],
   "source": [
    "def longest_sequence(filename):\n",
    "    longest_seq = ''\n",
    "    for info, seq in read_FASTA(filename):\n",
    "        longest_seq = max(longest_seq, seq, key=len)\n",
    "    return longest_seq\n",
    "\n",
    "\n",
    "print(longest_sequence('sequence.fasta'))\n",
    "    "
   ]
  },
  {
   "attachments": {},
   "cell_type": "markdown",
   "metadata": {},
   "source": [
    "Before we go to the next topic. You can try to think and comment down below that which form out of three forms described in the sudo code above is used the in the function longest_sequence."
   ]
  },
  {
   "attachments": {},
   "cell_type": "markdown",
   "metadata": {},
   "source": [
    "# Count\n",
    "\n",
    "Well again it is very similar to the previous one. This time we will increment by just one because we are gonna be counting.\n",
    "\n",
    "```\n",
    "count = 0\n",
    "for item in iterable:\n",
    "    count += 1\n",
    "return count\n",
    "```"
   ]
  },
  {
   "cell_type": "code",
   "execution_count": 66,
   "metadata": {},
   "outputs": [
    {
     "name": "stdout",
     "output_type": "stream",
     "text": [
      "3\n"
     ]
    }
   ],
   "source": [
    "kmers = ['tag', 'atgcgt', 'tagat']\n",
    "\n",
    "count = 0\n",
    "for kmer in kmers:\n",
    "    count += 1\n",
    "\n",
    "\n",
    "print(count)"
   ]
  },
  {
   "attachments": {},
   "cell_type": "markdown",
   "metadata": {},
   "source": [
    "# Collection Combine\n",
    "\n",
    "An ordinary Combine operation “reduces” a collection to a value; a Collection Combine reduces a collection of collections to a single collection. (In the template presented here the reduction is done step by step, but it could also be done by first assembling the entire collection of collections and then reducing them to a single collection.)\n",
    "\n",
    "```\n",
    "result = []\n",
    "for item in collection:\n",
    "    result += fn(item)\n",
    "    # merge result with previous result\n",
    "```"
   ]
  },
  {
   "cell_type": "code",
   "execution_count": 71,
   "metadata": {},
   "outputs": [
    {
     "data": {
      "text/plain": [
       "['1443065911',\n",
       " '32984511',\n",
       " '2123833810',\n",
       " '241985816',\n",
       " '2158035215',\n",
       " '1205927544',\n",
       " None,\n",
       " None,\n",
       " None]"
      ]
     },
     "execution_count": 71,
     "metadata": {},
     "output_type": "execute_result"
    }
   ],
   "source": [
    "def extract_gi_id(description):\n",
    "    '''Given a FASTA file description line, return its GenInfo ID if it has one'''\n",
    "    if description[0] != '>':\n",
    "        return None\n",
    "    fields = description[1:].split('|')\n",
    "    if 'gi' not in fields:\n",
    "        return None\n",
    "    # print(fields)\n",
    "    # print(fields.index('gi'))\n",
    "    return fields[1 + fields.index('gi')]\n",
    "\n",
    "def get_gi_ids(filename):\n",
    "    \"\"\"Return a list of GenInfo IDs of all sequences in the file names filename\"\"\"\n",
    "    with open(filename) as file:\n",
    "        return [extract_gi_id(line) for line in file if line[0] == '>']\n",
    "\n",
    "def get_gi_ids_from_files(filenames):\n",
    "    \"\"\"Return a list of the GenInfo ID's of all sequences formed in the\n",
    "    files whose names are contained in the collection filenames.\"\"\"\n",
    "    idlst = []\n",
    "    for filename in filenames:\n",
    "        idlst += get_gi_ids(filename)\n",
    "    return idlst\n",
    "\n",
    "\n",
    "# get_gi_ids('sequence.fasta')\n",
    "get_gi_ids_from_files(['sequence.fasta', 'st.fasta'])"
   ]
  },
  {
   "attachments": {},
   "cell_type": "markdown",
   "metadata": {},
   "source": [
    "# Search\n",
    "\n",
    "With in a for loop you simply keep on testing for a specific thing and then return as soon as you find it. Here is the sudo code. Suppose you have a huge fasta file and you want to see if that file contains a sequence with specific id then it will not be a good idea to store all the detials about that file. So, we will just read one sequence at a time and then check if this matches with our id and returns it otherwise it go to get the next sequence from the file.\n",
    "\n",
    "```\n",
    "for item in colleciton:\n",
    "    if test item:\n",
    "        return item\n",
    "```\n",
    "\n",
    "Let't take a look at the bioinformatickey example of the code. Like I always recomend we will be defining 4 functions to achieve this task. The four functions are as follow in the order in which we will define them:\n",
    "\n",
    "\n",
    "```\n",
    "search_FASTA_file_by_gi_id(id, filename):   \n",
    "    FASTA_search_by_gi_id(id, fil)          \n",
    "        extract_gi_id(line)   \n",
    "        read_FASTA_sequence(fil)\n",
    "```\n",
    "\n",
    "### search_FASTA_file_by_gi_id(id, filename)\n",
    "This is the top level function which is usually simplest function and just the entry point for complicated tasks. The main purpose of this function is to provide the next function data in correct form. This function will open the file to start the real search operation.\n",
    "\n",
    "### FASTA_search_by_gi_id(id, fil):\n",
    "It will keep on searching for lines starting with '>'. As soon as it finds such line it will call the function ```get_gi_i(description)``` to get the GenInfo ID from the line if it exixts. Then it will compare. If there is a match we will call the read_FASTA_sequence and return. Otherwise we will keep on loooking for next sequence.\n",
    "\n",
    "So, let's strart coding by difining the top level function.\n"
   ]
  },
  {
   "cell_type": "code",
   "execution_count": 72,
   "metadata": {},
   "outputs": [
    {
     "name": "stdout",
     "output_type": "stream",
     "text": [
      "TTTATTCCGTGACGTCGCGGCGGCGGCGGCGGCAGCGTCGCCTAACCCTAGCTAAACCCCCCTTCTCCCTTGCGCCTCCGCTTCGCGAGCCTCATCTCCTCGATCTCTTTCGATTCAGTGGAAAACCTAGGAGACCGGCGCGGCATGGCGGAGTCGGGCTCGTCGGGCCTGGAGGAGAAGCTGGCGGGTCTCTCCGCGGGCTGCGGCGAGGAGCCGCAGCAGCTCTCGAAGAATGCCAAGAAGAGGGAGGAGAAAAGGAAGAAGCAGGAGGAGGAGCGCCGGTTGAAGGAGGAAGAGAAGAAGAAGAAGGCCGCTGCAACAGCAGCTGCTAGTGGAGAGCCCCCGAAGGAATCTGCCGCCGACGATGAGGAAATGGATCCCACTCAATATTATGAGAATCGCCTCAAGGCACTTGATTCACTCAAGGCCACGGGTGTAAACCCCTATCCCCATAAGTTCCTGGCTAATATTACCGTAGCCGATTATATTGAGAAATACAAGAGCATGAATGTTGGGGATAAGCTTGTTGACGTCACCGAGTGCCTAGCAGGGAGGATCATGACCAAGAGAGCGCAATCTTCCAAGCTCTTATTTTATGATCTTTATGGTGGTGGTGAGAAAGTTCAAGTTTTTGCTGATGCCAGGACCTCAGAGTTGGAAGATAATGAATTCATTAAGTTTCACTCTACTCTGAAACGAGGTGATATTGTTGGTGTATGTGGTTATCCAGGAAAGAGCAAGAGAGGGGAGCTCAGTATATTCCCAAAGAAAATTGTTGTGCTCTCCCCATGCCTTCATATGATGCCTCGACAGAAGAGTGAGGGAAGTGCTGTTCCCACTCCATGGGCTCCAGGAATGGGTAGGAACATCGAAAAGTATGTTTTGAGGGACCAGGAAACCCGATATCGTCAACGATATCTTGATCTCATGGTAAACCATGAAGTGAGGCATATTTTCAAGACAAGATCAAAAGTTGTCTCTTTTATTCGGAAATTTCTTGATGGTCTTGACTTTTTAGAGGTGGAGACTCCAATGATGAACATGATTGCAGGTGGAGCAGCTGCAAGGCCTTTTGTCACACATCATAATGAGTTAAACATGAGGCTTTATATGCGTATTGCTCCTGAGCTCTATCTGAAGGAATTGGTTGTTGGGGGGCTGGATCGTGTTTATGAAATTGGGAAGCAGTTCAGGAATGAAGGAATTGACCTGACGCACAATCCTGAATTCACAACATGTGAATTTTATATGGCATATGCAGATTACAATGACTTGATAGAGCTTACTGAAACCATGTTATCTGGTATGGTTAAGGAGTTGACAGGTGGCTACAAGATTAAATATCATGCTAACGGAGTTGAGAAACCACCAATAGAGATTGATTTCACACCTCCCTTCAGAAAGATAGACATGATTGAAGAATTAGAGGCTATGGCTAAACTCAATATACCTAAAGATCTCTCAAGTGATGAAGCAAACAAGTATTTGATAGATGCCTGTGCCAAATATGATGTCAAATGCCCACCTCCCCAGACTACAACACGGTTGCTTGATAAGCTAGTTGGCCATTTCTTGGAGGAGACATGTGTGAATCCCACGTTTATTATCAACCATCCAGAGATAATGAGTCCATTGGCAAAGTGGCATAGGTCTCGACCTGGATTGACTGAGAGGTTTGAGCTCTTTGTTAACAAGCATGAGGTGTGCAATGCATATACAGAGTTAAATGATCCTGTTGTTCAGAGGCAACGGTTTGAGGAACAACTAAAGGATCGTCAATCTGGTGATGATGAAGCTATGGCATTGGATGAAACATTCTGCACAGCCCTTGAGTATGGCCTACCACCGACTGGTGGTTGGGGATTGGGAATTGATCGCCTTACAATGTTGCTGACTGATTCTCAGAATATCAAGGAAGTTCTTCTATTCCCGGCTATGAAGCCTCAAGATTAGATATGTCCACAAAGCAGGAACCTGTCAGAAGGATTAAAGCAGACTGAATGCTGACTGAGAGGATTTCAATTGGCCCTCGAGATGGAGGATTTGAAGGAAACTTATAATTTTGTTTTAATTGTGCATGTGAGGTTTCCATGTCCTATTGTACTTTATTTTTGGAGAACATTGGTGGTCAGTTAAGCAAACAGTTAATCTCGCTGCAAAGATATCAAGCGTAACTTATAAGATGACTTAAGTTTGTGCAATTTCTGTGGCCTTACTTGAAAATGATAGCGCGTTATTTGCGGTCTTGAA\n"
     ]
    }
   ],
   "source": [
    "def search_FASTA_file_by_gi_id(id, filename):\n",
    "    \"\"\"Return the sequence with the GenInfo ID ID from the FASTA file\n",
    "    named filename, reading one entry at a time until it is found\"\"\"\n",
    "    id = str(id) # user might call with a number\n",
    "    with open(filename) as file:\n",
    "        return FASTA_search_by_gi_id(id, file) \n",
    "\n",
    "\n",
    "## About the functions that we will define next\n",
    "## there will be a task for you after we finish \n",
    "## defining them here.\n",
    "\n",
    "\n",
    "def FASTA_search_by_gi_id(id, file):\n",
    "    for line in file:\n",
    "        if (line[0] == '>' and\n",
    "            str(id) == get_gi_id(line)):\n",
    "            return read_FASTA_sequence(file)\n",
    "\n",
    "def read_FASTA_sequence(file):\n",
    "    seq = '' \n",
    "    for line in file:\n",
    "        if not line or line[0] == '>':\n",
    "            return seq\n",
    "        seq += line[:-1]\n",
    "   \n",
    "\n",
    "def get_gi_id(description):\n",
    "    fields = description[1:].split('|')\n",
    "    if fields and 'gi' in fields:\n",
    "        return fields[1 + fields.index('gi')]\n",
    "\n",
    "\n",
    "print(search_FASTA_file_by_gi_id('1443065911', 'sequence.fasta'))\n"
   ]
  },
  {
   "attachments": {},
   "cell_type": "markdown",
   "metadata": {},
   "source": [
    "Now here is the task for you. You have to define the following functions by the help of a while loop:\n",
    "- FASTA_search_by_gi_id(id, file)\n",
    "- read_FASTA_sequence(file)\n",
    "- get_gi_id(description)"
   ]
  },
  {
   "attachments": {},
   "cell_type": "markdown",
   "metadata": {},
   "source": [
    "#### Special case for search Iteration\n",
    "\n",
    "We will keep on searching and rather than returning the item we found we will return True or False. Let's take a look at two code examples to make things clear."
   ]
  },
  {
   "cell_type": "code",
   "execution_count": 73,
   "metadata": {},
   "outputs": [],
   "source": [
    "def rna_sequence_is_valid(seq):\n",
    "    for base in seq:\n",
    "        if base not in 'UCAGucag':\n",
    "            return False\n",
    "    return True\n",
    "\n",
    "\n",
    "def dna_sequence_contains_N(seq):\n",
    "    for base in seq:\n",
    "        if base == 'N':\n",
    "            return True"
   ]
  },
  {
   "attachments": {},
   "cell_type": "markdown",
   "metadata": {},
   "source": [
    "##### Can you point out the difference between these two functions defined above?"
   ]
  },
  {
   "attachments": {},
   "cell_type": "markdown",
   "metadata": {},
   "source": [
    "# Filter\n",
    "\n",
    "This time we will filter stuff based on the specific condition. We can have quite a few different filter iterations. Let's talk about them one by one:\n",
    "\n",
    "## Filter Do\n",
    "In filter do we will do a an action on the item if it is according to a specific condition. Here is the sudo code.\n",
    "\n",
    "```\n",
    "for item in collection:\n",
    "                                    # we could have initializatios here before the \n",
    "                                    # conditional\n",
    "    if test item:                   #Test condition shown here could be complicated\n",
    "        statements using item \n",
    "```\n",
    "\n",
    "Let's take a look at the function in which we will print all the headers of the fasta file."
   ]
  },
  {
   "cell_type": "code",
   "execution_count": 74,
   "metadata": {},
   "outputs": [],
   "source": [
    "def print_FASTA_headers(filename): \n",
    "    with open(filename) as file:\n",
    "        for line in file:\n",
    "            if line[0] == '>':\n",
    "                print(line[1:-1])"
   ]
  },
  {
   "attachments": {},
   "cell_type": "markdown",
   "metadata": {},
   "source": [
    "## Filtered Combine\n",
    "\n",
    "It is just like normal combine but this time we will only combine if it passes a given test.\n",
    "\n",
    "```\n",
    "result = identity-value\n",
    "    for item in collection:\n",
    "        if test item:\n",
    "            result = result · item          # One of these\n",
    "            result ·= item                  # three forms\n",
    "            result = fn(result, item)       # is used.\n",
    "return result\n",
    "```"
   ]
  },
  {
   "attachments": {},
   "cell_type": "markdown",
   "metadata": {},
   "source": [
    "## Filtered Count\n",
    "\n",
    "This is like count but this time we will count only for those who pass the test.\n",
    "\n",
    "```\n",
    "count = 0\n",
    "for item in iterable:\n",
    "    if test item:\n",
    "        count += 1\n",
    "return count\n",
    "```"
   ]
  },
  {
   "attachments": {},
   "cell_type": "markdown",
   "metadata": {},
   "source": [
    "Your task is to think of a scenario where we can implement the Filtered Combine and Filtered Count approach in a Bioinformatickey or just ordinary function."
   ]
  },
  {
   "attachments": {},
   "cell_type": "markdown",
   "metadata": {},
   "source": [
    "# Nested iterations\n",
    "Lets talk about the last topic of this video. This is when we want to do  (a same set of things) for each item in the collection. Sudo code will look like this and it will get clear once we take a look at the code examples.\n",
    "\n",
    "```\n",
    "for outer in outer_collection:\n",
    "    for inner in inner_collection:\n",
    "        do something with inner and outer\n",
    "```\n",
    "\n",
    "Time to code a nested iteration function where we will be printing the codon table."
   ]
  },
  {
   "cell_type": "code",
   "execution_count": 79,
   "metadata": {},
   "outputs": [
    {
     "name": "stdout",
     "output_type": "stream",
     "text": [
      "AAA Lys     AUA Ile     AGA Arg     ACA Thr     \n",
      "AAU Asn     AUU Ile     AGU Ser     ACU Thr     \n",
      "AAG Lys     AUG Met     AGG Arg     ACG Thr     \n",
      "AAC Asn     AUC Ile     AGC Ser     ACC Thr     \n",
      "\n",
      "UAA ---     UUA Leu     UGA ---     UCA Ser     \n",
      "UAU Tyr     UUU Phe     UGU Cys     UCU Ser     \n",
      "UAG ---     UUG Leu     UGG Urp     UCG Ser     \n",
      "UAC Tyr     UUC Phe     UGC Cys     UCC Ser     \n",
      "\n",
      "GAA Glu     GUA Val     GGA Gly     GCA Ala     \n",
      "GAU Asp     GUU Val     GGU Gly     GCU Ala     \n",
      "GAG Glu     GUG Val     GGG Gly     GCG Ala     \n",
      "GAC Asp     GUC Val     GGC Gly     GCC Ala     \n",
      "\n",
      "CAA Gln     CUA Leu     CGA Arg     CCA Pro     \n",
      "CAU His     CUU Leu     CGU Arg     CCU Pro     \n",
      "CAG Gln     CUG Leu     CGG Arg     CCG Pro     \n",
      "CAC His     CUC Leu     CGC Arg     CCC Pro     \n",
      "\n"
     ]
    }
   ],
   "source": [
    "from pyforbinf import translate_RNA_codon\n",
    "def print_codon_table():\n",
    "    \"\"\"Print the DNA codon table in a nice, but simple, arrangement\"\"\"\n",
    "    DNA_bases = ['A', 'U', 'G', 'C']\n",
    "    \n",
    "    for base1 in DNA_bases: # horizontal section (or \"group\")\n",
    "        for base3 in DNA_bases: # line (or \"row\")\n",
    "            for base2 in DNA_bases: # vertical section (or \"column\")    \n",
    "                # the base2 loop is inside the base3 loop!\n",
    "                print(base1+base2+base3,\n",
    "                        translate_RNA_codon(base1+base2+base3),\n",
    "                        end='     ')\n",
    "            print()\n",
    "        print()\n",
    "\n",
    "print_codon_table()"
   ]
  }
 ],
 "metadata": {
  "kernelspec": {
   "display_name": "Python 3",
   "language": "python",
   "name": "python3"
  },
  "language_info": {
   "codemirror_mode": {
    "name": "ipython",
    "version": 3
   },
   "file_extension": ".py",
   "mimetype": "text/x-python",
   "name": "python",
   "nbconvert_exporter": "python",
   "pygments_lexer": "ipython3",
   "version": "3.9.6 (default, Oct 18 2022, 12:41:40) \n[Clang 14.0.0 (clang-1400.0.29.202)]"
  },
  "orig_nbformat": 4,
  "vscode": {
   "interpreter": {
    "hash": "31f2aee4e71d21fbe5cf8b01ff0e069b9275f58929596ceb00d14d90e3e16cd6"
   }
  }
 },
 "nbformat": 4,
 "nbformat_minor": 2
}
