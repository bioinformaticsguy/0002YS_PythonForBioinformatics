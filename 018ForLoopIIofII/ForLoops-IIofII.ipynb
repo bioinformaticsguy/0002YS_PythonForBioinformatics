{
 "cells": [
  {
   "cell_type": "markdown",
   "metadata": {},
   "source": [
    "# 18. For Loops Part II of II\n",
    "\n",
    "This is a bit advanced topic for the for loop. Understanding all the possible ways to use the for loop is very helpful for python programming skills.\n",
    "\n",
    "\n",
    "We will take a look at a bunch of different scanarios with for loops in this video like:\n",
    "\n",
    "- Combine\n",
    "- Count\n",
    "- Collection Combine\n",
    "- Search\n",
    "- Filter Do\n",
    "- Filtered Collect\n",
    "- Filtered Count\n",
    "- Nested Iteration"
   ]
  }
 ],
 "metadata": {
  "kernelspec": {
   "display_name": "Python 3",
   "language": "python",
   "name": "python3"
  },
  "language_info": {
   "codemirror_mode": {
    "name": "ipython",
    "version": 3
   },
   "file_extension": ".py",
   "mimetype": "text/x-python",
   "name": "python",
   "nbconvert_exporter": "python",
   "pygments_lexer": "ipython3",
   "version": "3.9.6 (default, Oct 18 2022, 12:41:40) \n[Clang 14.0.0 (clang-1400.0.29.202)]"
  },
  "orig_nbformat": 4,
  "vscode": {
   "interpreter": {
    "hash": "31f2aee4e71d21fbe5cf8b01ff0e069b9275f58929596ceb00d14d90e3e16cd6"
   }
  }
 },
 "nbformat": 4,
 "nbformat_minor": 2
}
