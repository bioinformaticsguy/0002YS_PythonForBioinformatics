{
 "cells": [
  {
   "cell_type": "markdown",
   "metadata": {},
   "source": [
    "# While Loop"
   ]
  },
  {
   "cell_type": "markdown",
   "metadata": {},
   "source": [
    "##### Suppose you have a thousand fasta files and you have to call a function on each of that file. Technically what we have learned so far you would have to call that function a thousand time with new name in each line. But what if I tell you that with the help of loops you can do that same thing with just a few lines of code.\n",
    "\n",
    "- When you want to do something over and over again you need loops.\n",
    "    - It will keep on getting executed unless some condition is true.\n",
    "\n",
    "In this video we will be discussing about while loops and:\n",
    "- We will start with the basic form of while loop"
   ]
  },
  {
   "cell_type": "markdown",
   "metadata": {},
   "source": [
    "## Basic Idea\n",
    "So the basic form of while loop starts with keyword while:\n",
    "\n",
    "```\n",
    "while expression:\n",
    "    statements\n",
    "```\n",
    "\n",
    "\n",
    "There could be slight variation  of this loop with final clause:\n",
    "\n",
    "```\n",
    "while expression:\n",
    "    statements1\n",
    "else:\n",
    "    statements2\n",
    "```\n",
    "\n",
    "## Simple Loop Example\n"
   ]
  },
  {
   "cell_type": "code",
   "execution_count": 3,
   "metadata": {},
   "outputs": [
    {
     "name": "stdout",
     "output_type": "stream",
     "text": [
      "your said:  HI \n",
      "your said:  how are you \n",
      "your said:  what are you going\n",
      "your said:  \n"
     ]
    }
   ],
   "source": [
    "def echo():\n",
    "    \"\"\"Echo the user's input untill an empty line is entered.\"\"\"\n",
    "    while echo1():\n",
    "        pass\n",
    "\n",
    "def echo1():\n",
    "    \"\"\"Prompt the user for a string \"echo\" it and return it\"\"\"\n",
    "    line = input('Say something: ')\n",
    "    print(\"your said: \", line)\n",
    "    return line\n",
    "\n",
    "echo()"
   ]
  },
  {
   "cell_type": "markdown",
   "metadata": {},
   "source": [
    "## Defining  polite echo"
   ]
  },
  {
   "cell_type": "code",
   "execution_count": 8,
   "metadata": {},
   "outputs": [
    {
     "name": "stdout",
     "output_type": "stream",
     "text": [
      "your said:  HI \n",
      "your said:  how are you '\n",
      "your said:  what is going on \n",
      "your said:  \n",
      "your said:  nothing much \n",
      "your said:  just fun \n",
      "your said:  \n",
      "your said:  \n",
      "your said:  \n",
      "your said:  bye\n"
     ]
    }
   ],
   "source": [
    "def polite_echo():\n",
    "    \"\"\"Echo the user's input until it equals 'bye' \"\"\"\n",
    "    while echo1() != 'bye':\n",
    "        pass\n",
    "\n",
    "polite_echo()"
   ]
  },
  {
   "cell_type": "markdown",
   "metadata": {},
   "source": [
    "## Recording the values\n",
    "We will define a function with a simple loop."
   ]
  },
  {
   "cell_type": "code",
   "execution_count": 6,
   "metadata": {},
   "outputs": [
    {
     "name": "stdout",
     "output_type": "stream",
     "text": [
      "your said:  hi\n",
      "your said:  how are you \n",
      "your said:  what iis up\n",
      "your said:  bye\n",
      "recordingEcho():  ['hi', 'how are you ', 'what iis up']\n"
     ]
    }
   ],
   "source": [
    "## We will record the values that we get in each iteration\n",
    "\n",
    "def recordingEcho():\n",
    "    \"\"\"Echo the user's input until it equals 'bye', then return a list of all the inputs received\"\"\"\n",
    "    lst = []\n",
    "    entry = echo1()\n",
    "    while entry != 'bye':\n",
    "        lst.append(entry)\n",
    "        entry = echo1()\n",
    "    return lst\n",
    "\n",
    "print(\"recordingEcho(): \", recordingEcho())"
   ]
  },
  {
   "cell_type": "markdown",
   "metadata": {},
   "source": [
    "## Detailed Explation with help of comments"
   ]
  },
  {
   "cell_type": "code",
   "execution_count": 10,
   "metadata": {},
   "outputs": [],
   "source": [
    "def recording_echo():\n",
    "    \"\"\"Echo the user's input until it equals 'bye', then return a list of all the inputs received\"\"\"\n",
    "    \n",
    "    # initialize entry and lst\n",
    "    lst = []\n",
    "    \n",
    "    # get the first input\n",
    "    entry = echo1()\n",
    "\n",
    "    # test entry\n",
    "    while entry != 'bye':\n",
    "        \n",
    "        # use entry\n",
    "        lst.append(entry)\n",
    "        \n",
    "        # change entry\n",
    "        entry = echo1()\n",
    "\n",
    "        # repeat\n",
    "    \n",
    "    # return result\n",
    "    return lst"
   ]
  },
  {
   "cell_type": "markdown",
   "metadata": {},
   "source": [
    "## Looping forever\n",
    "You can also loop forever but be careful. You never know when will it end.\n",
    "\n",
    "```\n",
    "initialize values\n",
    "    while True:\n",
    "        change values\n",
    "        if test values:\n",
    "            return\n",
    "        use values\n",
    "        \n",
    "        # repeat\n",
    "    return result\n",
    "```"
   ]
  },
  {
   "cell_type": "code",
   "execution_count": 8,
   "metadata": {},
   "outputs": [
    {
     "name": "stdout",
     "output_type": "stream",
     "text": [
      "your said:  hi \n",
      "your said:  how are you \n",
      "your said:  what is up \n",
      "your said:  bye\n"
     ]
    },
    {
     "data": {
      "text/plain": [
       "['hi ', 'how are you ', 'what is up ']"
      ]
     },
     "execution_count": 8,
     "metadata": {},
     "output_type": "execute_result"
    }
   ],
   "source": [
    "## Recording echo using “loop forever”\n",
    "\n",
    "def recording_echo_with_conditional():\n",
    "    \"\"\"Echo the user's input until it equals 'bye', then return a list of all the inputs received\"\"\"\n",
    "    seq = []\n",
    "    \n",
    "    # no need to initialize a value to be tested since nothing is tested!\n",
    "    while True:\n",
    "        entry = echo1()\n",
    "        if entry == 'bye':\n",
    "            return seq\n",
    "        seq.append(entry)\n",
    "\n",
    "recording_echo_with_conditional()"
   ]
  },
  {
   "cell_type": "markdown",
   "metadata": {},
   "source": [
    "## Search Loop\n",
    "These are the loops with guard conditions. Basically you exit the loop in case of either of two conditions.\n",
    "\n",
    "### not end and not test\n",
    "\n",
    "The loop stops when either there are no more values (end is true) or a value passes the test.\n",
    "\n",
    "```\n",
    "initialize values\n",
    "while not at-end and not at-target:\n",
    "    use current values\n",
    "    get new values\n",
    "    # repeat\n",
    "return success-result if test else None\n",
    "```\n"
   ]
  },
  {
   "cell_type": "code",
   "execution_count": 9,
   "metadata": {},
   "outputs": [
    {
     "data": {
      "text/plain": [
       "'TTCCTGGNCTGTAGGTAGCGACTACAGTTAGGGGGCACCTAGCATTCAGGCCCTCATCCTCCTCCTTCCCAGCAGGGTGT\\nCACGCTTCTCCGAAGACTGGATGACTGCCATGGAGGAGTCACAGTCGGATATCAGCCTCGAGCTCCCTCTGAGCCAGGAG\\nACATTTTCAGGCTTATGGAAACTACTTCCTCCAGAAGATATCCTGCCATCACCTCACTGCATGGACGATCTGTTGCTGCC\\nCCAGGATGTTGAGGAGTTTTTTGAAGGCCCAAGTGAAGCCCTCCGAGTGTCAGGAGCTCCTGCAGCACAGGACCCTGTCA\\nCCGAGACCCCTGGGCCAGTGGCCCCTGCCCCAGCCACTCCATGGCCCCTGTCATCTTTTGTCCCTTCTCAAAAAACTTAC\\nCAGGGCAACTATGGCTTCCACCTGGGCTTCCTGCAGTCTGGGACAGCCAAGTCTGTTATGTGCACGTACTCTCCTCCCCT\\nCAATAAGCTATTCTGCCAGCTGGCGAAGACGTGCCCTGTGCAGTTGTGGGTCAGCGCCACACCTCCAGCTGGGAGCCGTG\\nTCCGCGCCATGGCCATCTACAAGAAGTCACAGCACATGACGGAGGTCGTGAGACGCTGCCCCCACCATGAGCGCTGCTCC\\nGATGGTGATGGCCTGGCTCCTCCCCAGCATCGTATCCGGGTGGAAGGAAATTTGTATCCCGAGTATCTGGAAGACAGGCA\\nGACTTTTCGCCACAGCGTGGTGGTACCTTATGAGCCACCCGAGGCCGGCTCTGAGTATACCACCATCCACTACAAGTACA\\nTGTGTAATAGCTCCTGCATGGGGGGCATGAACCGCCGACCTATCCTTACCATCATCACACTGGAAGACTCCAGTGGGAAC\\nCTTCTGGGACGGGACAGCTTTGAGGTTCGTGTTTGTGCCTGCCCTGGGAGAGACCGCCGTACAGAAGAAGAAAATTTCCG\\nCAAAAAGGAAGTCCTTTGCCCTGAACTGCCCCCAGGGAGCGCAAAGAGAGCGCTGCCCACCTGCACAAGCGCCTCTCCCC\\nCGCAAAAGAAAAAACCACTTGATGGAGAGTATTTCACCCTCAAGATCCGCGGGCGTAAACGCTTCGAGATGTTCCGGGAG\\nCTGAATGAGGCCTTAGAGTTAAAGGATGCCCATGCTACAGAGGAGTCTGGAGACAGCAGGGCTCACTCCAGCTACCTGAA\\nGACCAAGAAGGGCCAGTCTACTTCCCGCCATAAAAAAACAATGGTCAAGAAAGTGGGGCCTGACTCAGACTGACTGCCTC\\nTGCATCCCGTCCCCATCACCAGCCTCCCCCTCTCCTTGCTGTCTTATGACTTCAGGGCTGAGACACAATCCCCAGGATCC\\nACTCANACTGNCTGCCTNTGNATCCNGTCCCCATNACCANCCTCCCCNTNTCCTTGCTGNNTTATGACT\\n'"
      ]
     },
     "execution_count": 9,
     "metadata": {},
     "output_type": "execute_result"
    }
   ],
   "source": [
    "def read_sequence(filename):\n",
    "    \"\"\"Given the name of a FASTA file named filename, read and return\n",
    "    its first sequence, ignoring the sequence's description\"\"\"\n",
    "    seq = ''\n",
    "    with open(filename) as file:\n",
    "        line = file.readline()\n",
    "        while line and line[0] == '>':\n",
    "            line = file.readline()\n",
    "        while line and line[0] != '>': # must check for end of file\n",
    "            seq += line\n",
    "            line = file.readline()\n",
    "    return seq\n",
    "\n",
    "read_sequence(\"seqdump.txt\")"
   ]
  }
 ],
 "metadata": {
  "kernelspec": {
   "display_name": "Python 3.10.4 64-bit",
   "language": "python",
   "name": "python3"
  },
  "language_info": {
   "codemirror_mode": {
    "name": "ipython",
    "version": 3
   },
   "file_extension": ".py",
   "mimetype": "text/x-python",
   "name": "python",
   "nbconvert_exporter": "python",
   "pygments_lexer": "ipython3",
   "version": "3.10.6"
  },
  "orig_nbformat": 4,
  "vscode": {
   "interpreter": {
    "hash": "916dbcbb3f70747c44a77c7bcd40155683ae19c65e1c03b4aa3499c5328201f1"
   }
  }
 },
 "nbformat": 4,
 "nbformat_minor": 2
}
