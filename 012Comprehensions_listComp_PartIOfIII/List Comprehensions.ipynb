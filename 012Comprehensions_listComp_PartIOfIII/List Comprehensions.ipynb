{
 "cells": [
  {
   "cell_type": "code",
   "execution_count": 2,
   "id": "575d8e86-d342-48c4-a6d0-1adf4b402d31",
   "metadata": {},
   "outputs": [
    {
     "data": {
      "text/plain": [
       "[0, 1, 2, 3, 4, 5, 6, 7, 8, 9]"
      ]
     },
     "execution_count": 2,
     "metadata": {},
     "output_type": "execute_result"
    }
   ],
   "source": [
    "# a = []\n",
    "# for i in range(10):\n",
    "#     a.append(i)\n",
    "    \n",
    "# a "
   ]
  },
  {
   "cell_type": "code",
   "execution_count": 4,
   "id": "4a5e4ef3-b9c5-4dba-9876-35af6a69a488",
   "metadata": {},
   "outputs": [],
   "source": [
    "a = [element for element in range(10)]"
   ]
  },
  {
   "cell_type": "code",
   "execution_count": 7,
   "id": "c377b208-4a3f-435d-ae6c-2f059afb74fe",
   "metadata": {},
   "outputs": [
    {
     "data": {
      "text/plain": [
       "[0, 1, 2, 3, 4, 5, 6, 7, 8, 9]"
      ]
     },
     "execution_count": 7,
     "metadata": {},
     "output_type": "execute_result"
    }
   ],
   "source": [
    "a"
   ]
  },
  {
   "cell_type": "code",
   "execution_count": 11,
   "id": "199caf69-12ba-4bb3-847b-833d5f930c4f",
   "metadata": {},
   "outputs": [
    {
     "data": {
      "text/plain": [
       "[True, False, True, True, True, True, True, False]"
      ]
     },
     "execution_count": 11,
     "metadata": {},
     "output_type": "execute_result"
    }
   ],
   "source": [
    "base_sequence = \"APCGTGCP\"\n",
    "RNAflag = False\n",
    "valid_bases = \"UCAG\" if RNAflag else \"TCAG\"\n",
    "\n",
    "[(base in valid_bases) for base in base_sequence.upper()]\n"
   ]
  },
  {
   "cell_type": "code",
   "execution_count": 13,
   "id": "ef956f50-0a16-4725-aaf9-f6cf92a4a885",
   "metadata": {},
   "outputs": [],
   "source": [
    "def validate_base_sequence(base_sequence, RNAflag = False):\n",
    "    valid_bases = \"UCAG\" if RNAflag else \"TCAG\"\n",
    "    return all([(base in valid_bases) for base in base_sequence.upper()])"
   ]
  },
  {
   "cell_type": "code",
   "execution_count": 23,
   "id": "80e0a484-0258-42c3-b09f-ab6895f89ade",
   "metadata": {},
   "outputs": [],
   "source": [
    "from random import randint\n",
    "\n",
    "def random_base(RNAflag = False):\n",
    "    return (\"UCAG\" if RNAflag else \"TCAG\")[randint(0,3)]\n",
    "\n",
    "def random_codon(RNAflag = False):\n",
    "    return random_base(RNAflag)+random_base(RNAflag)+random_base(RNAflag)"
   ]
  },
  {
   "cell_type": "code",
   "execution_count": 24,
   "id": "9a722b41-fa49-41ef-a0e3-86e334bb436a",
   "metadata": {},
   "outputs": [],
   "source": [
    "def random_codons(minlength = 3, maxlength = 10, RNAflag = False):\n",
    "    \"\"\" Generate a random list of codons (RNA if RNAflag, else DNA)\n",
    "    between minimum and maximum length, inclusive. \n",
    "    \"\"\"\n",
    "    return [random_codon(RNAflag) for n in range(randint(minlength, maxlength))]"
   ]
  },
  {
   "cell_type": "code",
   "execution_count": 34,
   "id": "36cb0016-a148-44ae-ba6e-ff5a418d30e6",
   "metadata": {},
   "outputs": [
    {
     "data": {
      "text/plain": [
       "['CCG', 'GTG', 'AGA']"
      ]
     },
     "execution_count": 34,
     "metadata": {},
     "output_type": "execute_result"
    }
   ],
   "source": [
    "random_codons(minlength = 3, maxlength = 10, RNAflag = False)"
   ]
  }
 ],
 "metadata": {
  "kernelspec": {
   "display_name": "Python 3 (ipykernel)",
   "language": "python",
   "name": "python3"
  },
  "language_info": {
   "codemirror_mode": {
    "name": "ipython",
    "version": 3
   },
   "file_extension": ".py",
   "mimetype": "text/x-python",
   "name": "python",
   "nbconvert_exporter": "python",
   "pygments_lexer": "ipython3",
   "version": "3.9.7"
  }
 },
 "nbformat": 4,
 "nbformat_minor": 5
}
