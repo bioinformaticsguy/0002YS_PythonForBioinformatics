{
 "cells": [
  {
   "cell_type": "markdown",
   "metadata": {},
   "source": [
    "# Conditionals"
   ]
  },
  {
   "cell_type": "markdown",
   "metadata": {},
   "source": [
    "So there are basically three types of conditionals. \n",
    "\n",
    "- if \n",
    "- if else\n",
    "- if elif else "
   ]
  },
  {
   "cell_type": "markdown",
   "metadata": {},
   "source": [
    "## if\n",
    "\n",
    "```\n",
    "if expression:\n",
    " statements\n",
    "```"
   ]
  },
  {
   "cell_type": "code",
   "execution_count": 4,
   "metadata": {},
   "outputs": [
    {
     "name": "stdout",
     "output_type": "stream",
     "text": [
      "a is less than b\n"
     ]
    }
   ],
   "source": [
    "## Code for if conditional\n",
    "\n",
    "a = 10\n",
    "b = 100\n",
    "\n",
    "if a < b:\n",
    "    print(\"a is less than b\")\n"
   ]
  },
  {
   "cell_type": "code",
   "execution_count": 5,
   "metadata": {},
   "outputs": [
    {
     "name": "stdout",
     "output_type": "stream",
     "text": [
      "This is a DNA sequence\n"
     ]
    }
   ],
   "source": [
    "from pyforbinf import validate_base_sequence\n",
    "\n",
    "seq = \"ATGC\"\n",
    "\n",
    "if validate_base_sequence(seq):\n",
    "    print(\"This is a DNA sequence\")"
   ]
  },
  {
   "cell_type": "markdown",
   "metadata": {},
   "source": [
    "## if else\n",
    "\n",
    "```\n",
    "if expression:\n",
    " statements1\n",
    "else:\n",
    " statements2\n",
    "\n",
    "```"
   ]
  },
  {
   "cell_type": "code",
   "execution_count": 6,
   "metadata": {},
   "outputs": [
    {
     "name": "stdout",
     "output_type": "stream",
     "text": [
      "a is greater than b\n"
     ]
    }
   ],
   "source": [
    "## Code for if else conditional\n",
    "\n",
    "a = 10000\n",
    "b = 100\n",
    "\n",
    "if a < b:\n",
    "    print(\"a is less than b\")\n",
    "else:\n",
    "    print(\"a is greater than b\")"
   ]
  },
  {
   "cell_type": "code",
   "execution_count": 7,
   "metadata": {},
   "outputs": [
    {
     "name": "stdout",
     "output_type": "stream",
     "text": [
      "this is not a DNA sequence\n"
     ]
    }
   ],
   "source": [
    "seq = \"AXGC\"\n",
    "\n",
    "if validate_base_sequence(seq):\n",
    "    print(\"this is a valid DNA sequence\")\n",
    "else:\n",
    "    print(\"this is not a valid DNA sequence\")"
   ]
  },
  {
   "cell_type": "markdown",
   "metadata": {},
   "source": [
    "## if elif else \n",
    "\n",
    "```\n",
    "if expression1:\n",
    " statements1\n",
    "elif expression2:\n",
    " statements2\n",
    " . . . any number of additional elif clauses\n",
    "else:\n",
    " statements\n",
    "```"
   ]
  },
  {
   "cell_type": "code",
   "execution_count": 9,
   "metadata": {},
   "outputs": [
    {
     "name": "stdout",
     "output_type": "stream",
     "text": [
      "a is equal to b\n"
     ]
    }
   ],
   "source": [
    "## Code for if elif and else conditional\n",
    "\n",
    "a = 100\n",
    "b = 100\n",
    "\n",
    "if a < b:\n",
    "    print(\"a is less than b\")\n",
    "elif a > b: \n",
    "    print(\"a is greater than b\")\n",
    "else:\n",
    "    print(\"a is equal to b\")"
   ]
  },
  {
   "cell_type": "code",
   "execution_count": 10,
   "metadata": {},
   "outputs": [
    {
     "name": "stdout",
     "output_type": "stream",
     "text": [
      "this is a valid RNA sequence\n"
     ]
    }
   ],
   "source": [
    "seq = \"AUGC\"\n",
    "\n",
    "if validate_base_sequence(seq):\n",
    "    print(\"this is a valid DNA sequence\")\n",
    "elif validate_base_sequence(seq, True):\n",
    "    print(\"this is a valid RNA sequence\")\n",
    "else:\n",
    "    print(\"this is not a valid DNA nor RNA sequence\")"
   ]
  }
 ],
 "metadata": {
  "kernelspec": {
   "display_name": "Python 3.10.4 64-bit",
   "language": "python",
   "name": "python3"
  },
  "language_info": {
   "codemirror_mode": {
    "name": "ipython",
    "version": 3
   },
   "file_extension": ".py",
   "mimetype": "text/x-python",
   "name": "python",
   "nbconvert_exporter": "python",
   "pygments_lexer": "ipython3",
   "version": "3.10.4"
  },
  "orig_nbformat": 4,
  "vscode": {
   "interpreter": {
    "hash": "916dbcbb3f70747c44a77c7bcd40155683ae19c65e1c03b4aa3499c5328201f1"
   }
  }
 },
 "nbformat": 4,
 "nbformat_minor": 2
}
