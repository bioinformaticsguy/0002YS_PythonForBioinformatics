{
 "cells": [
  {
   "cell_type": "markdown",
   "metadata": {
    "id": "DbGH1_SeknBJ"
   },
   "source": [
    "# Dictionaries"
   ]
  },
  {
   "cell_type": "code",
   "execution_count": 25,
   "metadata": {
    "colab": {
     "base_uri": "https://localhost:8080/"
    },
    "executionInfo": {
     "elapsed": 50,
     "status": "ok",
     "timestamp": 1617686870137,
     "user": {
      "displayName": "Ali Hassan",
      "photoUrl": "",
      "userId": "03391492653959268673"
     },
     "user_tz": -300
    },
    "id": "y45LqXYbpe_3",
    "outputId": "8c0abd7a-f602-43a9-92f5-1e615d259a68"
   },
   "outputs": [
    {
     "name": "stdout",
     "output_type": "stream",
     "text": [
      "{'AAA': 'Lys',\n",
      " 'AAC': 'Asn',\n",
      " 'AAG': 'Lys',\n",
      " 'AAU': 'Asn',\n",
      " 'ACA': 'Thr',\n",
      " 'ACC': 'Thr',\n",
      " 'ACG': 'Thr',\n",
      " 'ACU': 'Thr',\n",
      " 'AGA': 'Arg',\n",
      " 'AGC': 'Ser',\n",
      " 'AGG': 'Arg',\n",
      " 'AGU': 'Ser',\n",
      " 'AUA': 'Ile',\n",
      " 'AUC': 'Ile',\n",
      " 'AUG': 'Met',\n",
      " 'AUU': 'Ile',\n",
      " 'CAA': 'Gln',\n",
      " 'CAC': 'His',\n",
      " 'CAG': 'Gln',\n",
      " 'CAU': 'His',\n",
      " 'CCA': 'Pro',\n",
      " 'CCC': 'Pro',\n",
      " 'CCG': 'Pro',\n",
      " 'CCU': 'Pro',\n",
      " 'CGA': 'Arg',\n",
      " 'CGC': 'Arg',\n",
      " 'CGG': 'Arg',\n",
      " 'CGU': 'Arg',\n",
      " 'CUA': 'Leu',\n",
      " 'CUC': 'Leu',\n",
      " 'CUG': 'Leu',\n",
      " 'CUU': 'Leu',\n",
      " 'GAA': 'Glu',\n",
      " 'GAC': 'Asp',\n",
      " 'GAG': 'Glu',\n",
      " 'GAU': 'Asp',\n",
      " 'GCA': 'Ala',\n",
      " 'GCC': 'Ala',\n",
      " 'GCG': 'Ala',\n",
      " 'GCU': 'Ala',\n",
      " 'GGA': 'Gly',\n",
      " 'GGC': 'Gly',\n",
      " 'GGG': 'Gly',\n",
      " 'GGU': 'Gly',\n",
      " 'GUA': 'Val',\n",
      " 'GUC': 'Val',\n",
      " 'GUG': 'Val',\n",
      " 'GUU': 'Val',\n",
      " 'UAA': '---',\n",
      " 'UAC': 'Tyr',\n",
      " 'UAG': '---',\n",
      " 'UAU': 'Tyr',\n",
      " 'UCA': 'Ser',\n",
      " 'UCC': 'Ser',\n",
      " 'UCG': 'Ser',\n",
      " 'UCU': 'Ser',\n",
      " 'UGA': '---',\n",
      " 'UGC': 'Cys',\n",
      " 'UGG': 'Urp',\n",
      " 'UGU': 'Cys',\n",
      " 'UUA': 'Leu',\n",
      " 'UUC': 'Phe',\n",
      " 'UUG': 'Leu',\n",
      " 'UUU': 'Phe'}\n"
     ]
    }
   ],
   "source": [
    "from pprint import pprint as pp\n",
    "pp(RNA_codon_table)"
   ]
  },
  {
   "cell_type": "code",
   "execution_count": 3,
   "metadata": {
    "colab": {
     "base_uri": "https://localhost:8080/"
    },
    "executionInfo": {
     "elapsed": 32,
     "status": "ok",
     "timestamp": 1617686280378,
     "user": {
      "displayName": "Ali Hassan",
      "photoUrl": "",
      "userId": "03391492653959268673"
     },
     "user_tz": -300
    },
    "id": "zytssR-0nVke",
    "outputId": "fc2c3057-8632-4bcc-eb6f-4eaf362c57b8"
   },
   "outputs": [
    {
     "data": {
      "text/plain": [
       "'Lys'"
      ]
     },
     "execution_count": 3,
     "metadata": {
      "tags": []
     },
     "output_type": "execute_result"
    }
   ],
   "source": [
    "RNA_codon_table['AAA']"
   ]
  },
  {
   "cell_type": "code",
   "execution_count": 4,
   "metadata": {
    "executionInfo": {
     "elapsed": 17,
     "status": "ok",
     "timestamp": 1617686392213,
     "user": {
      "displayName": "Ali Hassan",
      "photoUrl": "",
      "userId": "03391492653959268673"
     },
     "user_tz": -300
    },
    "id": "qvByM3sxnfYJ"
   },
   "outputs": [],
   "source": [
    "def translate_RNA_codon(codon):\n",
    "    \"\"\" returns the amino acid for the given codon \"\"\"\n",
    "    return RNA_codon_table[codon]"
   ]
  },
  {
   "cell_type": "code",
   "execution_count": 6,
   "metadata": {
    "colab": {
     "base_uri": "https://localhost:8080/"
    },
    "executionInfo": {
     "elapsed": 21,
     "status": "ok",
     "timestamp": 1617686415872,
     "user": {
      "displayName": "Ali Hassan",
      "photoUrl": "",
      "userId": "03391492653959268673"
     },
     "user_tz": -300
    },
    "id": "IJv6YfcCn3Cw",
    "outputId": "4355bfd3-7c05-49b8-eaa8-2dc3de3949f2"
   },
   "outputs": [
    {
     "name": "stdout",
     "output_type": "stream",
     "text": [
      "Gly\n"
     ]
    }
   ],
   "source": [
    "print(translate_RNA_codon(\"GGG\"))"
   ]
  },
  {
   "cell_type": "code",
   "execution_count": 7,
   "metadata": {
    "executionInfo": {
     "elapsed": 22,
     "status": "ok",
     "timestamp": 1617686559775,
     "user": {
      "displayName": "Ali Hassan",
      "photoUrl": "",
      "userId": "03391492653959268673"
     },
     "user_tz": -300
    },
    "id": "nB86K774oEGx"
   },
   "outputs": [],
   "source": [
    "info = {\"FirstName\" : \"Ali\", \"LastName\": \"Hassan\", \"Age\": 25}"
   ]
  },
  {
   "cell_type": "code",
   "execution_count": 23,
   "metadata": {
    "colab": {
     "base_uri": "https://localhost:8080/"
    },
    "executionInfo": {
     "elapsed": 22,
     "status": "ok",
     "timestamp": 1617686805227,
     "user": {
      "displayName": "Ali Hassan",
      "photoUrl": "",
      "userId": "03391492653959268673"
     },
     "user_tz": -300
    },
    "id": "dxEqdYabogMA",
    "outputId": "98ecd8b0-26aa-45a6-ca07-2610ccf591b1"
   },
   "outputs": [
    {
     "data": {
      "text/plain": [
       "dict_items([('FirstName', 'Jhon'), ('LastName', 'Hassan')])"
      ]
     },
     "execution_count": 23,
     "metadata": {
      "tags": []
     },
     "output_type": "execute_result"
    }
   ],
   "source": [
    "info.items()"
   ]
  }
 ],
 "metadata": {
  "colab": {
   "authorship_tag": "ABX9TyNjQ9fDy8I6xXcgZL61ZwCa",
   "name": "Dictionaries.ipynb",
   "provenance": []
  },
  "kernelspec": {
   "display_name": "Python 3 (ipykernel)",
   "language": "python",
   "name": "python3"
  },
  "language_info": {
   "codemirror_mode": {
    "name": "ipython",
    "version": 3
   },
   "file_extension": ".py",
   "mimetype": "text/x-python",
   "name": "python",
   "nbconvert_exporter": "python",
   "pygments_lexer": "ipython3",
   "version": "3.9.7"
  }
 },
 "nbformat": 4,
 "nbformat_minor": 4
}
