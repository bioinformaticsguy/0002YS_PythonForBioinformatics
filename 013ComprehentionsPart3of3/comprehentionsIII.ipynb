{
 "cells": [
  {
   "cell_type": "code",
   "execution_count": null,
   "id": "0dc2fdf3-babf-40b5-88c7-41da7ae04690",
   "metadata": {},
   "outputs": [],
   "source": [
    "{expression for item in collection}"
   ]
  },
  {
   "cell_type": "code",
   "execution_count": null,
   "id": "a387b3fb-dd98-4fad-b043-ce2f274c1642",
   "metadata": {},
   "outputs": [],
   "source": [
    "seq = \"ATGCA\""
   ]
  },
  {
   "cell_type": "code",
   "execution_count": null,
   "id": "4118902e-ba52-44cd-9c85-2808b8b4e672",
   "metadata": {},
   "outputs": [],
   "source": [
    "[base for base in seq]"
   ]
  },
  {
   "cell_type": "code",
   "execution_count": null,
   "id": "51c086a8-0533-4f49-a913-785f2ae6c293",
   "metadata": {},
   "outputs": [],
   "source": [
    "{base for base in seq}"
   ]
  },
  {
   "cell_type": "code",
   "execution_count": null,
   "id": "0186e156-68e7-45ed-bf33-5e925e5ff31f",
   "metadata": {},
   "outputs": [],
   "source": [
    "{key-expression:value-expression for key in key, value collection}"
   ]
  },
  {
   "cell_type": "code",
   "execution_count": null,
   "id": "233459aa-6ced-4e14-b00a-a9b88dbeec07",
   "metadata": {},
   "outputs": [],
   "source": [
    "def read_FASTA_strings(filename):\n",
    "    with open(filename) as file:\n",
    "        return file.read().split(\">\")[1:]\n",
    "        \n",
    "def read_FASTA_entries(filename):\n",
    "    return [seq.partition(\"\\n\") for seq in read_FASTA_strings(filename)]\n",
    "\n",
    "def read_FASTA_sequences(filename):\n",
    "    return [[seq[0],\n",
    "            seq[2].replace(\"\\n\", \"\")]\n",
    "            for seq in read_FASTA_entries(filename)]"
   ]
  },
  {
   "cell_type": "code",
   "execution_count": null,
   "id": "a4bd4bef-b97e-4c63-8c89-9e07f51cc6cd",
   "metadata": {},
   "outputs": [],
   "source": [
    "read_FASTA_sequences(\"seqdump.txt\")"
   ]
  },
  {
   "cell_type": "code",
   "execution_count": null,
   "id": "57299820-b39f-448f-9adf-f145f0fb73b5",
   "metadata": {},
   "outputs": [],
   "source": [
    "def make_indexed_sequence_dictionary(filename):\n",
    "    return {info:seq for info, seq in read_FASTA_sequences(filename)}"
   ]
  },
  {
   "cell_type": "code",
   "execution_count": null,
   "id": "6a661bd3-046c-40ae-b7b6-27fbdb78f561",
   "metadata": {},
   "outputs": [],
   "source": [
    "make_indexed_sequence_dictionary(\"seqdump.txt\")"
   ]
  },
  {
   "cell_type": "code",
   "execution_count": null,
   "id": "1cfc33a2-6263-43ac-84b4-2278e063be4f",
   "metadata": {},
   "outputs": [],
   "source": [
    "[expression for elemenrt in collection if test]"
   ]
  },
  {
   "cell_type": "code",
   "execution_count": 9,
   "id": "496e1285-4995-4759-b262-1b082215e6ec",
   "metadata": {},
   "outputs": [],
   "source": [
    "rna_dna_list = [\"ATGC\", \"TCGA\", \"AUGC\", \"UCGA\"]"
   ]
  },
  {
   "cell_type": "code",
   "execution_count": 10,
   "id": "aff4bef6-6b00-4d24-b4ec-c9ad95158a95",
   "metadata": {},
   "outputs": [
    {
     "data": {
      "text/plain": [
       "['AUGC', 'UCGA']"
      ]
     },
     "execution_count": 10,
     "metadata": {},
     "output_type": "execute_result"
    }
   ],
   "source": [
    "[seq for seq in rna_dna_list if \"U\" in seq]"
   ]
  },
  {
   "cell_type": "code",
   "execution_count": 11,
   "id": "144ad804-0c7d-422b-8338-82e3dfdd8726",
   "metadata": {},
   "outputs": [
    {
     "data": {
      "text/plain": [
       "['ATGC', 'TCGA']"
      ]
     },
     "execution_count": 11,
     "metadata": {},
     "output_type": "execute_result"
    }
   ],
   "source": [
    "[seq for seq in rna_dna_list if \"T\" in seq]"
   ]
  }
 ],
 "metadata": {
  "kernelspec": {
   "display_name": "Python 3 (ipykernel)",
   "language": "python",
   "name": "python3"
  },
  "language_info": {
   "codemirror_mode": {
    "name": "ipython",
    "version": 3
   },
   "file_extension": ".py",
   "mimetype": "text/x-python",
   "name": "python",
   "nbconvert_exporter": "python",
   "pygments_lexer": "ipython3",
   "version": "3.9.7"
  }
 },
 "nbformat": 4,
 "nbformat_minor": 5
}
