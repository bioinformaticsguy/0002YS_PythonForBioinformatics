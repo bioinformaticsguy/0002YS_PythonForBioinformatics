{
 "cells": [
  {
   "cell_type": "code",
   "execution_count": null,
   "id": "22665917-a759-4908-bf0f-d94426a3e6ef",
   "metadata": {},
   "outputs": [],
   "source": [
    "seq = \"ATGCA\""
   ]
  },
  {
   "cell_type": "code",
   "execution_count": null,
   "id": "4f66d731-7a86-463c-b38f-b4c1bdb82f55",
   "metadata": {},
   "outputs": [],
   "source": [
    "[base for base in seq]"
   ]
  },
  {
   "cell_type": "code",
   "execution_count": null,
   "id": "321c9ca8-ef84-4d01-83ae-9d8af751f5c7",
   "metadata": {},
   "outputs": [],
   "source": [
    "{base for base in seq}"
   ]
  },
  {
   "cell_type": "code",
   "execution_count": null,
   "id": "aa88724d-89a8-4ef3-9306-543c713e4dd7",
   "metadata": {},
   "outputs": [],
   "source": [
    "def read_FASTA_strings(filename):\n",
    "    with open(filename) as file:\n",
    "        return file.read().split(\">\")[1:]\n",
    "        \n",
    "def read_FASTA_entries(filename):\n",
    "    return [seq.partition(\"\\n\") for seq in read_FASTA_strings(filename)]\n",
    "\n",
    "def read_FASTA_sequences(filename):\n",
    "    return [[seq[0],\n",
    "            seq[2].replace(\"\\n\", \"\")]\n",
    "            for seq in read_FASTA_entries(filename)]\n",
    "\n",
    "def make_indexed_sequence_dictionary(filename):\n",
    "    return {info:seq for info, seq in read_FASTA_sequences(filename)}"
   ]
  },
  {
   "cell_type": "code",
   "execution_count": null,
   "id": "82ea48c2-7d35-4bbc-abc5-792f56cd6bfd",
   "metadata": {},
   "outputs": [],
   "source": [
    "make_indexed_sequence_dictionary(\"seqdump.txt\")"
   ]
  },
  {
   "cell_type": "code",
   "execution_count": 6,
   "id": "1412251e-58ec-41ed-888d-0aea070e415a",
   "metadata": {},
   "outputs": [],
   "source": [
    "rna_dna_list = [\"ATGC\", \"TCGA\", \"AUGC\", \"UCGA\"]"
   ]
  },
  {
   "cell_type": "code",
   "execution_count": 7,
   "id": "7c709fd2-2501-45b0-8e19-4ee3ae8d344a",
   "metadata": {},
   "outputs": [
    {
     "data": {
      "text/plain": [
       "['AUGC', 'UCGA']"
      ]
     },
     "execution_count": 7,
     "metadata": {},
     "output_type": "execute_result"
    }
   ],
   "source": [
    "[seq for seq in rna_dna_list if \"U\" in seq]"
   ]
  },
  {
   "cell_type": "code",
   "execution_count": 8,
   "id": "60f3cdcf-49a4-4cb4-8850-7b72ec2c8056",
   "metadata": {},
   "outputs": [
    {
     "data": {
      "text/plain": [
       "['ATGC', 'TCGA']"
      ]
     },
     "execution_count": 8,
     "metadata": {},
     "output_type": "execute_result"
    }
   ],
   "source": [
    "[seq for seq in rna_dna_list if \"T\" in seq]"
   ]
  },
  {
   "cell_type": "code",
   "execution_count": 13,
   "id": "4ef1576c-8f22-4e23-b448-4c326db64445",
   "metadata": {},
   "outputs": [],
   "source": [
    "def get_FASTA_descriptions(filename):\n",
    "    with open(filename) as file:\n",
    "        return [line[1:].replace(\"\\n\", \"\") for line in file if line[0] == \">\"]"
   ]
  },
  {
   "cell_type": "code",
   "execution_count": 14,
   "id": "3dff3492-2461-4875-8bce-8686df15f676",
   "metadata": {},
   "outputs": [
    {
     "data": {
      "text/plain": [
       "['AB021961.1 Mus musculus mutant p53 mRNA, complete cds',\n",
       " 'AB020317.1 Mus musculus mRNA for p53, complete cds',\n",
       " 'AF151353.1 Mus musculus tumor suppressor p53 (p53) mRNA, complete cds',\n",
       " 'NM_011640.3 Mus musculus transformation related protein 53 (Trp53), transcript variant 1, mRNA',\n",
       " 'BC005448.1 Mus musculus transformation related protein 53, mRNA (cDNA clone MGC:6174 IMAGE:3599812), complete cds',\n",
       " 'X01237.1 Mouse mRNA for cellular tumour antigen p53',\n",
       " 'AB017815.1 Mus musculus mRNA for p53, complete cds',\n",
       " 'X00741.1 Mouse mRNA for transformation associated protein p53',\n",
       " 'AB017816.1 Mus musculus mRNA for p53, complete cds']"
      ]
     },
     "execution_count": 14,
     "metadata": {},
     "output_type": "execute_result"
    }
   ],
   "source": [
    "get_FASTA_descriptions(\"seqdump.txt\")"
   ]
  }
 ],
 "metadata": {
  "kernelspec": {
   "display_name": "Python 3 (ipykernel)",
   "language": "python",
   "name": "python3"
  },
  "language_info": {
   "codemirror_mode": {
    "name": "ipython",
    "version": 3
   },
   "file_extension": ".py",
   "mimetype": "text/x-python",
   "name": "python",
   "nbconvert_exporter": "python",
   "pygments_lexer": "ipython3",
   "version": "3.9.7"
  }
 },
 "nbformat": 4,
 "nbformat_minor": 5
}
