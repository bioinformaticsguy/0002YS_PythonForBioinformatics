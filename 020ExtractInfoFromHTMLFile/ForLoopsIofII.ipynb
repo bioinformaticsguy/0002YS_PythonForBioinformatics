{
 "cells": [
  {
   "cell_type": "markdown",
   "metadata": {},
   "source": [
    "# 18. For Loops Part II of II\n",
    "\n",
    "This is a bit advanced topic for the for loop. Understanding all the possible ways to use the for loop is very helpful for python programming skills.\n",
    "\n",
    "\n",
    "We will take a look at a bunch of different scanarios with for loops in this video like:\n",
    "\n",
    "- Combine\n",
    "- Count\n",
    "- Collection Combine\n",
    "- Search\n",
    "- Filter Do\n",
    "- Filtered Collect\n",
    "- Filtered Count\n",
    "- Nested Iteration"
   ]
  }
 ],
 "metadata": {
  "kernelspec": {
   "display_name": "Python 3.10.4 64-bit",
   "language": "python",
   "name": "python3"
  },
  "language_info": {
   "codemirror_mode": {
    "name": "ipython",
    "version": 3
   },
   "file_extension": ".py",
   "mimetype": "text/x-python",
   "name": "python",
   "nbconvert_exporter": "python",
   "pygments_lexer": "ipython3",
   "version": "3.10.6"
  },
  "orig_nbformat": 4,
  "vscode": {
   "interpreter": {
    "hash": "916dbcbb3f70747c44a77c7bcd40155683ae19c65e1c03b4aa3499c5328201f1"
   }
  }
 },
 "nbformat": 4,
 "nbformat_minor": 2
}
